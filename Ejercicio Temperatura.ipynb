{
  "nbformat": 4,
  "nbformat_minor": 0,
  "metadata": {
    "colab": {
      "provenance": []
    },
    "kernelspec": {
      "name": "python3",
      "display_name": "Python 3"
    },
    "language_info": {
      "name": "python"
    }
  },
  "cells": [
    {
      "cell_type": "code",
      "execution_count": 1,
      "metadata": {
        "colab": {
          "base_uri": "https://localhost:8080/"
        },
        "id": "sSOA1bFE-1lY",
        "outputId": "c6053b70-4ba9-4069-cd44-ddc0c1f2079e"
      },
      "outputs": [
        {
          "output_type": "stream",
          "name": "stdout",
          "text": [
            "Ingrese la temperatura en °C: 25\n",
            "25.00 °C equivalen a:\n",
            "  → 77.00 °F\n",
            "  → 298.15 K\n"
          ]
        }
      ],
      "source": [
        "# --- Conversor de temperaturas ---\n",
        "# Solicitamos al usuario la temperatura en Celsius\n",
        "temp_celsius = float(input(\"Ingrese la temperatura en °C: \"))\n",
        "\n",
        "# Validación básica: no por debajo del cero absoluto\n",
        "if temp_celsius < -273.15:\n",
        "    raise ValueError(\"La temperatura no puede ser menor que -273.15 °C (cero absoluto).\")\n",
        "\n",
        "# Conversión a Fahrenheit: (°C × 9/5) + 32\n",
        "temp_fahrenheit = (temp_celsius * 9/5) + 32\n",
        "\n",
        "# Conversión a Kelvin: °C + 273.15\n",
        "temp_kelvin = temp_celsius + 273.15\n",
        "\n",
        "# Mostrar resultados\n",
        "print(f\"{temp_celsius:.2f} °C equivalen a:\")\n",
        "print(f\"  → {temp_fahrenheit:.2f} °F\")\n",
        "print(f\"  → {temp_kelvin:.2f} K\")"
      ]
    }
  ]
}