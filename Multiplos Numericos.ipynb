{
  "nbformat": 4,
  "nbformat_minor": 0,
  "metadata": {
    "colab": {
      "provenance": [],
      "cell_execution_strategy": "setup"
    },
    "kernelspec": {
      "name": "python3",
      "display_name": "Python 3"
    },
    "language_info": {
      "name": "python"
    }
  },
  "cells": [
    {
      "cell_type": "code",
      "execution_count": 1,
      "metadata": {
        "id": "PN41s-grDgkL",
        "colab": {
          "base_uri": "https://localhost:8080/"
        },
        "outputId": "d7a28c51-fc0e-4927-e0e2-5a3be0c62e57"
      },
      "outputs": [
        {
          "output_type": "stream",
          "name": "stdout",
          "text": [
            "Ingrese un número entero: 78\n",
            "78 **SÍ** es múltiplo de 2.\n",
            "78 **SÍ** es múltiplo de 3.\n",
            "78 **NO** es múltiplo de 5.\n",
            "78 **NO** es múltiplo de 7.\n",
            "78 **NO** es múltiplo de 9.\n",
            "78 **NO** es múltiplo de 10.\n",
            "78 **NO** es múltiplo de 11.\n"
          ]
        }
      ],
      "source": [
        "# --- Desafío 4: Verificar múltiplos ---\n",
        "\n",
        "# 1. Leer número desde el usuario\n",
        "try:\n",
        "    numero = int(input(\"Ingrese un número entero: \"))\n",
        "except ValueError:\n",
        "    raise ValueError(\"Debes ingresar un número entero válido.\")\n",
        "\n",
        "# (Validación opcional)\n",
        "if numero <= 0:\n",
        "    print(\"Nota: definiendo múltiplos solo para enteros positivos.\")\n",
        "\n",
        "# 2. Lista de divisores a verificar\n",
        "divisores = [2, 3, 5, 7, 9, 10, 11]\n",
        "\n",
        "# 3. Para cada divisor, comprobamos con el operador módulo\n",
        "for d in divisores:\n",
        "    if numero % d == 0:\n",
        "        print(f\"{numero} **SÍ** es múltiplo de {d}.\")\n",
        "    else:\n",
        "        print(f\"{numero} **NO** es múltiplo de {d}.\")\n"
      ]
    }
  ]
}